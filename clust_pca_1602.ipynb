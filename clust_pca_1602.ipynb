{
 "cells": [
  {
   "attachments": {},
   "cell_type": "markdown",
   "metadata": {},
   "source": [
    "## In questo file andiamo ad applicare algoritmi di clustering dopo aver eliminato eventuali duplicati ed aver ridotto le dimensioni del dataset con undersampling. Prima di applicare gli algoritmi di clustering, applichiamo la pca che ci permette di selezionare le feature più rilevanti"
   ]
  },
  {
   "cell_type": "code",
   "execution_count": 1,
   "metadata": {},
   "outputs": [],
   "source": [
    "import pickle\n",
    "import pandas as pd\n",
    "import numpy as np\n",
    "import matplotlib.pyplot as plt\n",
    "from sklearn.cluster import KMeans\n",
    "from sklearn.metrics import accuracy_score, precision_score, recall_score\n",
    "import pickle\n",
    "import pandas as pd\n",
    "import numpy as np\n",
    "import matplotlib.pyplot as plt\n",
    "from sklearn.cluster import AgglomerativeClustering\n",
    "from matplotlib.lines import Line2D\n",
    "import os"
   ]
  },
  {
   "cell_type": "code",
   "execution_count": 2,
   "metadata": {},
   "outputs": [],
   "source": [
    "nome_file='Friday-16-02-2018_TrafficForML_CICFlowMeter'\n",
    "\n",
    "with open('pickle/'+nome_file+'/scaled_document.pickle', 'rb') as handle:\n",
    "\n",
    "    df = pickle.load(handle)"
   ]
  },
  {
   "cell_type": "code",
   "execution_count": 3,
   "metadata": {},
   "outputs": [],
   "source": [
    "#eliminazione duplicati\n",
    "\n",
    "df = df.drop_duplicates()"
   ]
  },
  {
   "cell_type": "code",
   "execution_count": 4,
   "metadata": {},
   "outputs": [],
   "source": [
    "# Seleziona una frazione casuale delle righe in base a una colonna specifica\n",
    "# Selezioniamo il 50% delle righe\n",
    "\n",
    "colonna_interessata = 'Label'\n",
    "frazione_da_selezionare = 0.5  # Ad esempio, seleziona il 50% delle righe\n",
    "\n",
    "\n",
    "df = df.groupby(colonna_interessata).apply(lambda x: x.sample(frac=frazione_da_selezionare, random_state=42)).reset_index(drop=True)"
   ]
  },
  {
   "cell_type": "code",
   "execution_count": 5,
   "metadata": {},
   "outputs": [
    {
     "name": "stdout",
     "output_type": "stream",
     "text": [
      "        Label\n",
      "Label        \n",
      "0      223310\n",
      "1          28\n",
      "2       72600\n"
     ]
    }
   ],
   "source": [
    "#contiamo il numero di feature per label\n",
    "\n",
    "df_prova = df.groupby(['Label'])['Label'].count()\n",
    "\n",
    "df_prova=df_prova.to_frame()\n",
    "print(df_prova)\n",
    "df_prova.set_index('Label')\n",
    "df_prova=df_prova.rename(columns={'Label':'Count'})"
   ]
  },
  {
   "cell_type": "code",
   "execution_count": 6,
   "metadata": {},
   "outputs": [
    {
     "name": "stdout",
     "output_type": "stream",
     "text": [
      "['Fwd Pkt Len Std', 'Fwd Seg Size Min', 'Fwd Pkt Len Max', 'Init Fwd Win Byts', 'Subflow Fwd Byts']\n"
     ]
    }
   ],
   "source": [
    "#creiamo un array in cui andiamo a mettere le 5 feature più importanti per filtrare poi il dataframe\n",
    "\n",
    "import csv\n",
    "\n",
    "results = []\n",
    "with open('top_feature/'+ nome_file +'/top5.csv', newline='') as inputfile:\n",
    "    for row in csv.reader(inputfile):\n",
    "        results.append(row[0])\n",
    "\n",
    "results.pop(0)\n",
    "print(results)"
   ]
  },
  {
   "cell_type": "code",
   "execution_count": 7,
   "metadata": {},
   "outputs": [
    {
     "data": {
      "text/html": [
       "<div>\n",
       "<style scoped>\n",
       "    .dataframe tbody tr th:only-of-type {\n",
       "        vertical-align: middle;\n",
       "    }\n",
       "\n",
       "    .dataframe tbody tr th {\n",
       "        vertical-align: top;\n",
       "    }\n",
       "\n",
       "    .dataframe thead th {\n",
       "        text-align: right;\n",
       "    }\n",
       "</style>\n",
       "<table border=\"1\" class=\"dataframe\">\n",
       "  <thead>\n",
       "    <tr style=\"text-align: right;\">\n",
       "      <th></th>\n",
       "      <th>Fwd Pkt Len Max</th>\n",
       "      <th>Fwd Pkt Len Std</th>\n",
       "      <th>Subflow Fwd Byts</th>\n",
       "      <th>Init Fwd Win Byts</th>\n",
       "      <th>Fwd Seg Size Min</th>\n",
       "      <th>Label</th>\n",
       "    </tr>\n",
       "  </thead>\n",
       "  <tbody>\n",
       "    <tr>\n",
       "      <th>0</th>\n",
       "      <td>0.321085</td>\n",
       "      <td>0.697342</td>\n",
       "      <td>0.056516</td>\n",
       "      <td>0.003738</td>\n",
       "      <td>0.8</td>\n",
       "      <td>0</td>\n",
       "    </tr>\n",
       "    <tr>\n",
       "      <th>1</th>\n",
       "      <td>0.321085</td>\n",
       "      <td>0.697342</td>\n",
       "      <td>0.056516</td>\n",
       "      <td>0.003738</td>\n",
       "      <td>0.8</td>\n",
       "      <td>0</td>\n",
       "    </tr>\n",
       "    <tr>\n",
       "      <th>2</th>\n",
       "      <td>0.321085</td>\n",
       "      <td>0.697342</td>\n",
       "      <td>0.056516</td>\n",
       "      <td>0.004044</td>\n",
       "      <td>0.8</td>\n",
       "      <td>0</td>\n",
       "    </tr>\n",
       "    <tr>\n",
       "      <th>3</th>\n",
       "      <td>0.321085</td>\n",
       "      <td>0.697342</td>\n",
       "      <td>0.056516</td>\n",
       "      <td>0.004044</td>\n",
       "      <td>0.8</td>\n",
       "      <td>0</td>\n",
       "    </tr>\n",
       "    <tr>\n",
       "      <th>4</th>\n",
       "      <td>0.321085</td>\n",
       "      <td>0.697342</td>\n",
       "      <td>0.056516</td>\n",
       "      <td>0.003738</td>\n",
       "      <td>0.8</td>\n",
       "      <td>0</td>\n",
       "    </tr>\n",
       "    <tr>\n",
       "      <th>...</th>\n",
       "      <td>...</td>\n",
       "      <td>...</td>\n",
       "      <td>...</td>\n",
       "      <td>...</td>\n",
       "      <td>...</td>\n",
       "      <td>...</td>\n",
       "    </tr>\n",
       "    <tr>\n",
       "      <th>295933</th>\n",
       "      <td>0.000000</td>\n",
       "      <td>0.000000</td>\n",
       "      <td>0.000000</td>\n",
       "      <td>0.003840</td>\n",
       "      <td>0.8</td>\n",
       "      <td>2</td>\n",
       "    </tr>\n",
       "    <tr>\n",
       "      <th>295934</th>\n",
       "      <td>0.000000</td>\n",
       "      <td>0.000000</td>\n",
       "      <td>0.000000</td>\n",
       "      <td>0.003840</td>\n",
       "      <td>0.8</td>\n",
       "      <td>2</td>\n",
       "    </tr>\n",
       "    <tr>\n",
       "      <th>295935</th>\n",
       "      <td>0.000000</td>\n",
       "      <td>0.000000</td>\n",
       "      <td>0.000000</td>\n",
       "      <td>0.003840</td>\n",
       "      <td>0.8</td>\n",
       "      <td>2</td>\n",
       "    </tr>\n",
       "    <tr>\n",
       "      <th>295936</th>\n",
       "      <td>0.000000</td>\n",
       "      <td>0.000000</td>\n",
       "      <td>0.000000</td>\n",
       "      <td>0.003840</td>\n",
       "      <td>0.8</td>\n",
       "      <td>2</td>\n",
       "    </tr>\n",
       "    <tr>\n",
       "      <th>295937</th>\n",
       "      <td>0.000000</td>\n",
       "      <td>0.000000</td>\n",
       "      <td>0.000000</td>\n",
       "      <td>0.003840</td>\n",
       "      <td>0.8</td>\n",
       "      <td>2</td>\n",
       "    </tr>\n",
       "  </tbody>\n",
       "</table>\n",
       "<p>295938 rows × 6 columns</p>\n",
       "</div>"
      ],
      "text/plain": [
       "        Fwd Pkt Len Max  Fwd Pkt Len Std  Subflow Fwd Byts  Init Fwd Win Byts   \n",
       "0              0.321085         0.697342          0.056516           0.003738  \\\n",
       "1              0.321085         0.697342          0.056516           0.003738   \n",
       "2              0.321085         0.697342          0.056516           0.004044   \n",
       "3              0.321085         0.697342          0.056516           0.004044   \n",
       "4              0.321085         0.697342          0.056516           0.003738   \n",
       "...                 ...              ...               ...                ...   \n",
       "295933         0.000000         0.000000          0.000000           0.003840   \n",
       "295934         0.000000         0.000000          0.000000           0.003840   \n",
       "295935         0.000000         0.000000          0.000000           0.003840   \n",
       "295936         0.000000         0.000000          0.000000           0.003840   \n",
       "295937         0.000000         0.000000          0.000000           0.003840   \n",
       "\n",
       "        Fwd Seg Size Min  Label  \n",
       "0                    0.8      0  \n",
       "1                    0.8      0  \n",
       "2                    0.8      0  \n",
       "3                    0.8      0  \n",
       "4                    0.8      0  \n",
       "...                  ...    ...  \n",
       "295933               0.8      2  \n",
       "295934               0.8      2  \n",
       "295935               0.8      2  \n",
       "295936               0.8      2  \n",
       "295937               0.8      2  \n",
       "\n",
       "[295938 rows x 6 columns]"
      ]
     },
     "metadata": {},
     "output_type": "display_data"
    }
   ],
   "source": [
    "#otteniamo il dataframe con solo le 5 feature più importanti\n",
    "\n",
    "df_filtrato = pd.DataFrame()\n",
    "for a in df.head(0):\n",
    "    if a in results:\n",
    "        df_filtrato[a] = df[a]\n",
    "\n",
    "df_filtrato['Label'] = df['Label']\n",
    "display(df_filtrato)"
   ]
  },
  {
   "cell_type": "code",
   "execution_count": 8,
   "metadata": {},
   "outputs": [],
   "source": [
    "for i in range(len(df)):\n",
    "    if df_filtrato.loc[i, 'Label'] != 0:\n",
    "        df_filtrato.loc[i, 'Label'] = 1"
   ]
  },
  {
   "cell_type": "code",
   "execution_count": 9,
   "metadata": {},
   "outputs": [
    {
     "name": "stdout",
     "output_type": "stream",
     "text": [
      "Benign:  223310 DoS:  72628\n"
     ]
    }
   ],
   "source": [
    "bot = df_filtrato[df_filtrato.Label == 1]\n",
    "benign = df_filtrato[df_filtrato.Label == 0]\n",
    "\n",
    "print(\"Benign: \", len(benign), \"DoS: \", len(bot))"
   ]
  },
  {
   "cell_type": "code",
   "execution_count": 10,
   "metadata": {},
   "outputs": [
    {
     "data": {
      "text/plain": [
       "(145256, 6)"
      ]
     },
     "execution_count": 10,
     "metadata": {},
     "output_type": "execute_result"
    }
   ],
   "source": [
    "#bilanciamento del dataset\n",
    "balanced_d = pd.concat([bot, benign.sample(len(bot))])\n",
    "bal_x = balanced_d.iloc[:,:-1]\n",
    "bal_y = balanced_d.iloc[:,-1:]\n",
    "balanced_d.shape"
   ]
  },
  {
   "attachments": {},
   "cell_type": "markdown",
   "metadata": {},
   "source": [
    "## Applicazione della PCA"
   ]
  },
  {
   "cell_type": "code",
   "execution_count": 11,
   "metadata": {},
   "outputs": [],
   "source": [
    "from sklearn.decomposition import PCA\n",
    "\n",
    "pca = PCA(n_components=2, svd_solver=\"auto\").fit(bal_x)\n",
    "pca_x = pca.transform(bal_x)"
   ]
  },
  {
   "cell_type": "code",
   "execution_count": 12,
   "metadata": {},
   "outputs": [],
   "source": [
    "n_clusters = len(balanced_d['Label'].unique())  # numero di cluster"
   ]
  },
  {
   "cell_type": "code",
   "execution_count": 13,
   "metadata": {},
   "outputs": [],
   "source": [
    "#applicazione del kmeans\n",
    "km = KMeans(n_clusters = 2, init = 'k-means++', max_iter = 300, n_init = 10, random_state = 0)\n",
    "y_pred = km.fit_predict(pca_x)\n",
    "\n",
    "# Associazione del cluster i-esimo con la classe i-esima\n",
    "cluster_class_mapping = {}\n",
    "for i in range(n_clusters):\n",
    "    cluster_samples = pca_x[y_pred == i]\n",
    "    cluster_classes = bal_y[y_pred == i]\n",
    "    unique_classes, class_counts = np.unique(cluster_classes, return_counts=True)\n",
    "    dominant_class = unique_classes[np.argmax(class_counts)]\n",
    "    cluster_class_mapping[i] = dominant_class"
   ]
  },
  {
   "cell_type": "code",
   "execution_count": 14,
   "metadata": {},
   "outputs": [],
   "source": [
    "difference = pd.DataFrame(data=[],columns=['num_cluster','num_class'])\n",
    "\n",
    "# associazione del cluster con la classe\n",
    "for i in range(n_clusters):\n",
    "    if(i != cluster_class_mapping[i]):\n",
    "        new_row = pd.Series({'num_cluster': i, 'num_class': cluster_class_mapping[i]})\n",
    "        difference = pd.concat([difference,new_row.to_frame().T],ignore_index=True)"
   ]
  },
  {
   "cell_type": "code",
   "execution_count": 15,
   "metadata": {},
   "outputs": [],
   "source": [
    "# se il numero del cluster e la classe non coincidono, andiamo ad effettuare uno switch\n",
    "\n",
    "indici = []\n",
    "\n",
    "for a in difference['num_cluster']:\n",
    "    indici.append([\n",
    "    index for index in range(len(y_pred))\n",
    "    if y_pred[index] == a\n",
    "])\n",
    "\n",
    "for ind,true_value in zip(indici,difference['num_class']):\n",
    "    for a in ind:\n",
    "        y_pred[a] = true_value"
   ]
  },
  {
   "cell_type": "code",
   "execution_count": 16,
   "metadata": {},
   "outputs": [
    {
     "data": {
      "image/png": "[encoded data removed]",
      "text/plain": [
       "<Figure size 1500x800 with 1 Axes>"
      ]
     },
     "metadata": {},
     "output_type": "display_data"
    }
   ],
   "source": [
    "#Plot dei risultati\n",
    "\n",
    "plt.figure(figsize=(15,8))\n",
    "plt.title('Cluster of PCAs K-means', fontsize = 30)\n",
    "\n",
    "plt.scatter(pca_x[y_pred == 0, 0], pca_x[y_pred == 0, 1], s = 100, c = 'purple', label = \"Benign\")\n",
    "plt.scatter(pca_x[y_pred == 1, 0], pca_x[y_pred == 1, 1], s = 100, c = 'yellow', label = \"Bot\")\n",
    "\n",
    "\n",
    "plt.xlabel('PCA1')\n",
    "plt.ylabel('PCA2')\n",
    "\n",
    "# Add legend\n",
    "plt.legend(fontsize='large')\n",
    "\n",
    "title = \"KMeans_PCA\"\n",
    "if not os.path.exists('image/'+nome_file+'/clustering_pca/'):\n",
    "    os.makedirs('image/'+nome_file+'/clustering_pca/')\n",
    "plt.savefig('image/'+nome_file+'/clustering_pca/'+ title +'.png')\n",
    "\n",
    "plt.show()"
   ]
  },
  {
   "cell_type": "code",
   "execution_count": 17,
   "metadata": {},
   "outputs": [
    {
     "name": "stdout",
     "output_type": "stream",
     "text": [
      "accuratezza 0.9950501184116318\n",
      "precision 1.0\n",
      "recall 0.9901972814157362\n"
     ]
    }
   ],
   "source": [
    "accuracy_kmeans = str(accuracy_score(y_pred,bal_y))\n",
    "precision_kmeans = str(precision_score(y_pred,bal_y))\n",
    "recall_kmeans = str(recall_score(y_pred,bal_y))\n",
    "\n",
    "# accuratezza kmeans\n",
    "print(\"accuratezza \" + accuracy_kmeans)\n",
    "# precision kmeans\n",
    "print(\"precision \" + precision_kmeans)\n",
    "# recall kemans\n",
    "print(\"recall \" + recall_kmeans)\n",
    "\n",
    "\n",
    "metriche = pd.DataFrame({\n",
    "    'metriche': [\"accuracy\",\"precision\",\"recall\"],\n",
    "    'valori': [accuracy_kmeans,precision_kmeans,recall_kmeans]\n",
    "})\n",
    "\n",
    "if not os.path.exists('metriche/'+nome_file +'/clustering_pca/'):\n",
    "    os.makedirs('metriche/'+nome_file +'/clustering_pca/')\n",
    "\n",
    "metriche.to_csv('metriche/'+nome_file +'/clustering_pca'+'/metriche_kmeans_pca.csv',index=False)"
   ]
  },
  {
   "cell_type": "code",
   "execution_count": 18,
   "metadata": {},
   "outputs": [
    {
     "name": "stderr",
     "output_type": "stream",
     "text": [
      "/home/spalazzi/anaconda3/envs/cyber/lib/python3.10/site-packages/sklearn/cluster/_agglomerative.py:983: FutureWarning: Attribute `affinity` was deprecated in version 1.2 and will be removed in 1.4. Use `metric` instead\n",
      "  warnings.warn(\n"
     ]
    }
   ],
   "source": [
    "#clustering gerarchico\n",
    "\n",
    "hc = AgglomerativeClustering(n_clusters = 2, affinity = 'euclidean', linkage = 'ward')\n",
    "y_hc = hc.fit_predict(pca_x)\n",
    "\n",
    "# Associazione del cluster i-esimo con la classe i-esima\n",
    "cluster_class_mapping = {}\n",
    "for i in range(n_clusters):\n",
    "    cluster_samples = pca_x[y_hc == i]\n",
    "    cluster_classes = bal_y[y_hc == i]\n",
    "    unique_classes, class_counts = np.unique(cluster_classes, return_counts=True)\n",
    "    dominant_class = unique_classes[np.argmax(class_counts)]\n",
    "    cluster_class_mapping[i] = dominant_class"
   ]
  },
  {
   "cell_type": "code",
   "execution_count": 19,
   "metadata": {},
   "outputs": [],
   "source": [
    "difference = pd.DataFrame(data=[],columns=['num_cluster','num_class'])\n",
    "\n",
    "# Stampiamo l'associazione del cluster con la classe\n",
    "for i in range(n_clusters):\n",
    "    if(i != cluster_class_mapping[i]):\n",
    "        new_row = pd.Series({'num_cluster': i, 'num_class': cluster_class_mapping[i]})\n",
    "        difference = pd.concat([difference,new_row.to_frame().T],ignore_index=True)"
   ]
  },
  {
   "cell_type": "code",
   "execution_count": 20,
   "metadata": {},
   "outputs": [],
   "source": [
    "# se il numero del cluster e la classe non coincidono, andiamo ad effettuare uno switch\n",
    "\n",
    "indici = []\n",
    "\n",
    "for a in difference['num_cluster']:\n",
    "    indici.append([\n",
    "    index for index in range(len(y_hc))\n",
    "    if y_hc[index] == a\n",
    "])\n",
    "\n",
    "for ind,true_value in zip(indici,difference['num_class']):\n",
    "    for a in ind:\n",
    "        y_hc[a] = true_value"
   ]
  },
  {
   "cell_type": "code",
   "execution_count": 21,
   "metadata": {},
   "outputs": [
    {
     "data": {
      "image/png": "[encoded data removed]",
      "text/plain": [
       "<Figure size 1500x800 with 1 Axes>"
      ]
     },
     "metadata": {},
     "output_type": "display_data"
    }
   ],
   "source": [
    "plt.figure(figsize=(15,8))\n",
    "plt.scatter(pca_x[y_hc == 0, 0], pca_x[y_hc == 0, 1], s = 100, c = 'purple', label = \"Benign\")\n",
    "plt.scatter(pca_x[y_hc == 1, 0], pca_x[y_hc == 1, 1], s = 100, c = 'yellow', label = \"Bot\")\n",
    "\n",
    "plt.title('Hierarchial Clustering', fontsize = 20)\n",
    "plt.xlabel('PCA1')\n",
    "plt.ylabel('PCA2')\n",
    "\n",
    "# Add legend\n",
    "plt.legend(fontsize='large')\n",
    "\n",
    "title = (\"Clust_gerarchico_PCA\")\n",
    "if not os.path.exists('image/'+nome_file+'/clustering_pca/'):\n",
    "    os.makedirs('image/'+nome_file+'/clustering_pca/')\n",
    "plt.savefig('image/'+nome_file+'/clustering_pca/'+ title +'.png')\n",
    "\n",
    "plt.show()"
   ]
  },
  {
   "cell_type": "code",
   "execution_count": 22,
   "metadata": {},
   "outputs": [
    {
     "name": "stdout",
     "output_type": "stream",
     "text": [
      "accuratezza0.9950019276312166\n",
      "precision1.0\n",
      "recall0.9901027892139488\n"
     ]
    }
   ],
   "source": [
    "accuracy_gerarchico = str(accuracy_score(y_hc,bal_y))\n",
    "precision_gerarchico = str(precision_score(y_hc,bal_y))\n",
    "recall_gerarchico = str(recall_score(y_hc,bal_y))\n",
    "\n",
    "# accuratezza gerarchico\n",
    "print(\"accuratezza\" + accuracy_gerarchico)\n",
    "# precision gerarchico\n",
    "print(\"precision\" + precision_gerarchico)\n",
    "# recall gerarchico\n",
    "print(\"recall\" + recall_gerarchico)\n",
    "\n",
    "metriche = pd.DataFrame({\n",
    "    'metriche': [\"accuracy\",\"precision\",\"recall\"],\n",
    "    'valori': [accuracy_gerarchico,precision_gerarchico,recall_gerarchico]\n",
    "})\n",
    "\n",
    "if not os.path.exists('metriche/'+nome_file +'/clustering_pca/'):\n",
    "    os.makedirs('metriche/'+nome_file +'/clustering_pca/')\n",
    "\n",
    "metriche.to_csv('metriche/'+nome_file +'/clustering_pca'+'/metriche_gerarchico_PCA.csv',index=False)"
   ]
  },
  {
   "cell_type": "code",
   "execution_count": 23,
   "metadata": {},
   "outputs": [
    {
     "data": {
      "text/plain": [
       "[<matplotlib.lines.Line2D at 0x7f6a1f8cdc00>]"
      ]
     },
     "execution_count": 23,
     "metadata": {},
     "output_type": "execute_result"
    },
    {
     "data": {
      "image/png": "[encoded data removed]",
      "text/plain": [
       "<Figure size 1200x800 with 1 Axes>"
      ]
     },
     "metadata": {},
     "output_type": "display_data"
    }
   ],
   "source": [
    "#individuazione eps\n",
    "\n",
    "from sklearn.neighbors import NearestNeighbors\n",
    "import numpy as np\n",
    "import random\n",
    "\n",
    "neigh = NearestNeighbors(n_neighbors=2)\n",
    "nbrs = neigh.fit(pca_x)\n",
    "distances, indices = nbrs.kneighbors(pca_x)\n",
    "\n",
    "distances = np.sort(distances, axis=0)\n",
    "plt.figure(figsize=(12,8))\n",
    "plt.plot(distances[:,1])"
   ]
  },
  {
   "cell_type": "code",
   "execution_count": 24,
   "metadata": {},
   "outputs": [
    {
     "data": {
      "text/plain": [
       "array([0, 0, 0, ..., 4, 4, 4])"
      ]
     },
     "execution_count": 24,
     "metadata": {},
     "output_type": "execute_result"
    }
   ],
   "source": [
    "#applicazione DBSCAN\n",
    "\n",
    "from sklearn.cluster import DBSCAN\n",
    "\n",
    "db = DBSCAN(eps=0.01, min_samples=6).fit(pca_x)\n",
    "y_scan = db.labels_\n",
    "y_scan"
   ]
  },
  {
   "cell_type": "code",
   "execution_count": 25,
   "metadata": {},
   "outputs": [],
   "source": [
    "# Associazione del cluster i-esimo con la classe i-esima\n",
    "cluster_class_mapping = {}\n",
    "for i in range(n_clusters):\n",
    "    cluster_samples = pca_x[y_scan == i]\n",
    "    cluster_classes = bal_y[y_scan == i]\n",
    "    unique_classes, class_counts = np.unique(cluster_classes, return_counts=True)\n",
    "    dominant_class = unique_classes[np.argmax(class_counts)]\n",
    "    cluster_class_mapping[i] = dominant_class"
   ]
  },
  {
   "cell_type": "code",
   "execution_count": 26,
   "metadata": {},
   "outputs": [],
   "source": [
    "difference = pd.DataFrame(data=[],columns=['num_cluster','num_class'])\n",
    "\n",
    "# Stampiamo l'associazione del cluster con la classe\n",
    "for i in range(n_clusters):\n",
    "    if(i != cluster_class_mapping[i]):\n",
    "        new_row = pd.Series({'num_cluster': i, 'num_class': cluster_class_mapping[i]})\n",
    "        difference = pd.concat([difference,new_row.to_frame().T],ignore_index=True)"
   ]
  },
  {
   "cell_type": "code",
   "execution_count": 27,
   "metadata": {},
   "outputs": [],
   "source": [
    "# se il numero del cluster e la classe non coincidono, andiamo ad effettuare uno switch\n",
    "\n",
    "indici = []\n",
    "\n",
    "for a in difference['num_cluster']:\n",
    "    indici.append([\n",
    "    index for index in range(len(y_scan))\n",
    "    if y_scan[index] == a\n",
    "])\n",
    "\n",
    "for ind,true_value in zip(indici,difference['num_class']):\n",
    "    for a in ind:\n",
    "        y_scan[a] = true_value"
   ]
  },
  {
   "cell_type": "code",
   "execution_count": 28,
   "metadata": {},
   "outputs": [
    {
     "data": {
      "image/png": "[encoded data removed]",
      "text/plain": [
       "<Figure size 1500x800 with 1 Axes>"
      ]
     },
     "metadata": {},
     "output_type": "display_data"
    }
   ],
   "source": [
    "plt.figure(figsize=(15,8))\n",
    "plt.title('Cluster of PCAs', fontsize = 30)\n",
    "\n",
    "plt.scatter(pca_x[y_scan == -1, 0], pca_x[y_scan == -1, 1], s = 100, c = 'black', label = \"noise\")\n",
    "plt.scatter(pca_x[y_scan == 0, 0], pca_x[y_scan == 0, 1], s = 100, c = 'red', label = \"Benign\")\n",
    "plt.scatter(pca_x[y_scan == 1, 0], pca_x[y_scan == 1, 1], s = 100, c = 'blue', label = \"Bot\")\n",
    "\n",
    "plt.xlabel('PCA1')\n",
    "plt.ylabel('PCA2')\n",
    "\n",
    "# Add legend\n",
    "plt.legend(fontsize='large')\n",
    "\n",
    "title = (\"DB_Scan_PCA\")\n",
    "feature_name = title.replace('/','_')\n",
    "if not os.path.exists('image/'+nome_file+'/clustering_pca/'):\n",
    "    os.makedirs('image/'+nome_file+'/clustering_pca/')\n",
    "plt.savefig('image/'+nome_file+'/clustering_pca/'+ title +'.png')\n",
    "\n",
    "plt.show()"
   ]
  },
  {
   "cell_type": "code",
   "execution_count": 29,
   "metadata": {},
   "outputs": [
    {
     "name": "stdout",
     "output_type": "stream",
     "text": [
      "accuratezza0.41367654348185273\n",
      "precision0.3462322526936083\n",
      "recall0.41367654348185273\n"
     ]
    },
    {
     "name": "stderr",
     "output_type": "stream",
     "text": [
      "/home/spalazzi/anaconda3/envs/cyber/lib/python3.10/site-packages/sklearn/metrics/_classification.py:1344: UndefinedMetricWarning: Precision is ill-defined and being set to 0.0 in labels with no predicted samples. Use `zero_division` parameter to control this behavior.\n",
      "  _warn_prf(average, modifier, msg_start, len(result))\n",
      "/home/spalazzi/anaconda3/envs/cyber/lib/python3.10/site-packages/sklearn/metrics/_classification.py:1344: UndefinedMetricWarning: Recall is ill-defined and being set to 0.0 in labels with no true samples. Use `zero_division` parameter to control this behavior.\n",
      "  _warn_prf(average, modifier, msg_start, len(result))\n"
     ]
    }
   ],
   "source": [
    "accuracy_dbscan = str(accuracy_score(y_scan,bal_y))\n",
    "precision_dbscan = str(precision_score(y_scan,bal_y,average='weighted'))\n",
    "recall_dbscan = str(recall_score(y_scan,bal_y,average='weighted'))\n",
    "\n",
    "# accuratezza dbscan\n",
    "print(\"accuratezza\" + accuracy_dbscan)\n",
    "# precision dbscan\n",
    "print(\"precision\" + precision_dbscan)\n",
    "# recall dbscan\n",
    "print(\"recall\" + recall_dbscan)\n",
    "\n",
    "metriche = pd.DataFrame({\n",
    "    'metriche': [\"accuracy\",\"precision\",\"recall\"],\n",
    "    'valori': [accuracy_dbscan,precision_dbscan,recall_dbscan]\n",
    "})\n",
    "\n",
    "if not os.path.exists('metriche/'+nome_file +'/clustering_pca/'):\n",
    "    os.makedirs('metriche/'+nome_file +'/clustering_pca/')\n",
    "\n",
    "metriche.to_csv('metriche/'+nome_file +'/clustering_pca'+'/metriche_dbscan_PCA.csv',index=False)"
   ]
  }
 ],
 "metadata": {
  "kernelspec": {
   "display_name": "cyber",
   "language": "python",
   "name": "python3"
  },
  "language_info": {
   "codemirror_mode": {
    "name": "ipython",
    "version": 3
   },
   "file_extension": ".py",
   "mimetype": "text/x-python",
   "name": "python",
   "nbconvert_exporter": "python",
   "pygments_lexer": "ipython3",
   "version": "3.10.11"
  },
  "orig_nbformat": 4
 },
 "nbformat": 4,
 "nbformat_minor": 2
}
