{
 "cells": [
  {
   "attachments": {},
   "cell_type": "markdown",
   "metadata": {},
   "source": [
    "# In questo documento andiamo a selezionare le feature singolarmente da ogni documento"
   ]
  },
  {
   "cell_type": "code",
   "execution_count": 7,
   "metadata": {},
   "outputs": [],
   "source": [
    "# Importiamo le librerie\n",
    "\n",
    "from os import listdir\n",
    "from os.path import isfile, join\n",
    "import pandas as pd\n",
    "import os\n",
    "import matplotlib.pyplot as plt\n",
    "import numpy as np\n"
   ]
  },
  {
   "cell_type": "code",
   "execution_count": 8,
   "metadata": {},
   "outputs": [],
   "source": [
    "# Variabili globali\n",
    "\n",
    "mypath = 'dataset'\n",
    "\n",
    "# Questi campi non sono di interesse, quindi li escludiamo dalle analisi\n",
    "\n",
    "first = ['Dst Port', 'Protocol', 'Timestamp']"
   ]
  },
  {
   "cell_type": "code",
   "execution_count": 9,
   "metadata": {},
   "outputs": [],
   "source": [
    "# Mi vado a prendere i path di tutti i file nella cartella dataset\n",
    "\n",
    "onlyfiles = [f for f in listdir(mypath) if isfile(join(mypath, f))]"
   ]
  },
  {
   "cell_type": "code",
   "execution_count": 10,
   "metadata": {},
   "outputs": [],
   "source": [
    "# Mi creo una cartella image all'interno del quale per ogni file vado a inserire le immagini d'interesse\n",
    "\n",
    "if not os.path.exists(\"image\"):\n",
    "    os.makedirs(\"image\")\n",
    "    for a in onlyfiles:\n",
    "        b = a.replace('.csv','')\n",
    "        os.makedirs(\"image/\"+b)\n",
    "        os.makedirs(\"image/\"+b+\"/scatter\")\n",
    "        os.makedirs(\"image/\"+b+\"/istogrammi\")"
   ]
  },
  {
   "cell_type": "code",
   "execution_count": 11,
   "metadata": {},
   "outputs": [
    {
     "data": {
      "text/plain": [
       "\"for a in range(len(onlyfiles)):\\n    all.append(pd.read_csv(mypath+'/'+onlyfiles[a]))\""
      ]
     },
     "execution_count": 11,
     "metadata": {},
     "output_type": "execute_result"
    }
   ],
   "source": [
    "# In una sola lista andiamo a memorizzare tutti i dataframe dei documenti\n",
    "\n",
    "all = [pd.read_csv(\"dataset/Wednesday-14-02-2018_TrafficForML_CICFlowMeter.csv\")]\n",
    "\n",
    "'''for a in range(len(onlyfiles)):\n",
    "    all.append(pd.read_csv(mypath+'/'+onlyfiles[a]))'''"
   ]
  },
  {
   "cell_type": "code",
   "execution_count": 12,
   "metadata": {},
   "outputs": [
    {
     "data": {
      "text/plain": [
       "Text(0.5, 1.0, 'Fwd Seg Size Min')"
      ]
     },
     "execution_count": 12,
     "metadata": {},
     "output_type": "execute_result"
    },
    {
     "data": {
      "image/png": "[encoded data removed]",
      "text/plain": [
       "<Figure size 640x480 with 1 Axes>"
      ]
     },
     "metadata": {},
     "output_type": "display_data"
    }
   ],
   "source": [
    "all[0][all[0]['Label'] == 'Benign']['Fwd Seg Size Min'].hist(label='Benign')\n",
    "all[0][all[0]['Label'] == 'FTP-BruteForce']['Fwd Seg Size Min'].hist(label='FTP-BruteForce')\n",
    "all[0][all[0]['Label'] == 'SSH-Bruteforce']['Fwd Seg Size Min'].hist(label='SSH-Bruteforce')\n",
    "plt.legend()\n",
    "plt.title('Fwd Seg Size Min')"
   ]
  },
  {
   "cell_type": "code",
   "execution_count": 13,
   "metadata": {},
   "outputs": [
    {
     "name": "stdout",
     "output_type": "stream",
     "text": [
      "inf\n",
      "['Benign' 'FTP-BruteForce' 'SSH-Bruteforce']\n"
     ]
    }
   ],
   "source": [
    "print(all[0]['Flow Byts/s'].max())\n",
    "print(all[0]['Label'].unique())"
   ]
  },
  {
   "attachments": {},
   "cell_type": "markdown",
   "metadata": {},
   "source": [
    "# Per ogni documento andiamo a eseguire le operazioni di pre-processing, e a selezionare le feature d'interesse"
   ]
  },
  {
   "cell_type": "code",
   "execution_count": 14,
   "metadata": {},
   "outputs": [
    {
     "name": "stdout",
     "output_type": "stream",
     "text": [
      "uguale a 0 Label\n"
     ]
    }
   ],
   "source": [
    "for document,my_index in zip(all,range(1)): #len(onlyfiles) da sostituire\n",
    "\n",
    "    scarto = []\n",
    "    scarto.append([])\n",
    "    folder = onlyfiles[7].replace('.csv','')\n",
    "    attaccanti_label = document['Label'].unique()\n",
    "\n",
    "    # Definisco una funzione per normalizzare i valori\n",
    "\n",
    "    def normalize(feature:str):\n",
    "        return (document[feature]-document[feature].mean())/np.std(document[feature])\n",
    "    \n",
    "    def normalize_plot(feature:str):\n",
    "        return (document_plot[feature]-document_plot[feature].mean())/np.std(document_plot[feature])\n",
    "    \n",
    "    \n",
    "    # Andiamo a eliminare i primi 3 campi inutili\n",
    "\n",
    "    for a in first:\n",
    "        document.drop(columns=a,axis=1,inplace=True)\n",
    "\n",
    "    # Analisi della varianza, eliminiamo tutte le feature che hanno un solo valore\n",
    "\n",
    "    for a in document.head(0):\n",
    "        if(document[a].unique().shape[0] == 1):\n",
    "            scarto[-1].append(a)\n",
    "            document.drop(columns=a,axis=1,inplace=True)\n",
    "        else:\n",
    "            continue\n",
    "\n",
    "\n",
    "    # Creo un duplicato solo per il plot \n",
    "\n",
    "    document_plot = document\n",
    "\n",
    "    # Andiamo a sostituire le label con valori interi\n",
    "\n",
    "    for b,c in zip(attaccanti_label,range(len(attaccanti_label))):\n",
    "        document = document.replace(b, c)\n",
    "\n",
    "    # Nel documento sono presenti valori infiniti, li andiamo a sostituire con Nan che verranno successivamente rimossi\n",
    "\n",
    "    document.replace([np.inf, -np.inf], np.nan, inplace=True)\n",
    "\n",
    "    # Eliminiamo i valori nulli\n",
    "\n",
    "    document.dropna(inplace=True)\n",
    "    document_plot.dropna(inplace=True)\n",
    "\n",
    "    # Andiamo a normalizzare i valori per poter usare i vari algoritmi di feature selection\n",
    "\n",
    "    scaled_document = document.head(0)\n",
    "    scaled_document_plot = document_plot.head(0)\n",
    "\n",
    "    for a in document.head(0):\n",
    "        if document[a].max() != 0 and a != 'Label':\n",
    "            scaled_document[a] = normalize(a)\n",
    "            scaled_document_plot[a] = normalize_plot(a)\n",
    "        else:\n",
    "            scaled_document[a] = document[a]\n",
    "            scaled_document_plot[a] = document_plot[a]\n",
    "            print(\"uguale a 0 \" + str(a))\n",
    "\n",
    "    # A questo punto andiamo a salvare gli histogrammi delle varie feature per effettuare analisi visive\n",
    "\n",
    "    for h in scaled_document.head(0):\n",
    "\n",
    "        # Stampo un istogramma per ogni valori di label, così da avere la suddivisione per colore\n",
    "\n",
    "        for b,c in zip(attaccanti_label,range(len(attaccanti_label))):\n",
    "            scaled_document[scaled_document['Label'] == c][h].hist(label=str(b))\n",
    "            \n",
    "        plt.legend()\n",
    "        plt.title(h)\n",
    "\n",
    "        feature_name = h.replace('/','_')\n",
    "        plt.savefig('image/'+folder+'/'+'istogrammi/'+str(feature_name)+'.png')\n",
    "        plt.close()\n",
    "    "
   ]
  },
  {
   "cell_type": "code",
   "execution_count": 15,
   "metadata": {},
   "outputs": [
    {
     "name": "stdout",
     "output_type": "stream",
     "text": [
      "inf\n"
     ]
    }
   ],
   "source": [
    "print(all[0]['Flow Byts/s'].max())"
   ]
  },
  {
   "cell_type": "code",
   "execution_count": 16,
   "metadata": {},
   "outputs": [
    {
     "data": {
      "text/plain": [
       "Text(0.5, 1.0, 'Fwd Seg Size Min')"
      ]
     },
     "execution_count": 16,
     "metadata": {},
     "output_type": "execute_result"
    },
    {
     "data": {
      "image/png": "[encoded data removed]",
      "text/plain": [
       "<Figure size 640x480 with 1 Axes>"
      ]
     },
     "metadata": {},
     "output_type": "display_data"
    }
   ],
   "source": [
    "all[0][all[0]['Label'] == 'Benign']['Fwd Seg Size Min'].hist(label='Benign')\n",
    "all[0][all[0]['Label'] == 'FTP-BruteForce']['Fwd Seg Size Min'].hist(label='FTP-BruteForce')\n",
    "all[0][all[0]['Label'] == 'SSH-Bruteforce']['Fwd Seg Size Min'].hist(label='SSH-Bruteforce')\n",
    "plt.legend()\n",
    "plt.title('Fwd Seg Size Min')"
   ]
  }
 ],
 "metadata": {
  "kernelspec": {
   "display_name": "tensor",
   "language": "python",
   "name": "python3"
  },
  "language_info": {
   "codemirror_mode": {
    "name": "ipython",
    "version": 3
   },
   "file_extension": ".py",
   "mimetype": "text/x-python",
   "name": "python",
   "nbconvert_exporter": "python",
   "pygments_lexer": "ipython3",
   "version": "3.9.16"
  },
  "orig_nbformat": 4
 },
 "nbformat": 4,
 "nbformat_minor": 2
}
