{
 "cells": [
  {
   "cell_type": "code",
   "execution_count": 279,
   "metadata": {},
   "outputs": [],
   "source": [
    "import pickle\n",
    "import pandas as pd\n",
    "import numpy as np\n",
    "import matplotlib.pyplot as plt\n",
    "from sklearn.cluster import KMeans\n",
    "from sklearn_som.som import SOM\n",
    "import pickle\n",
    "import pandas as pd\n",
    "import numpy as np\n",
    "import matplotlib.pyplot as plt\n",
    "from sklearn.metrics import accuracy_score, precision_score, recall_score\n",
    "from sklearn.preprocessing import StandardScaler\n",
    "from sklearn.cluster import AgglomerativeClustering\n",
    "import matplotlib.pyplot as plt\n",
    "from matplotlib.lines import Line2D\n",
    "import os"
   ]
  },
  {
   "cell_type": "code",
   "execution_count": 280,
   "metadata": {},
   "outputs": [],
   "source": [
    "nome_file='Wednesday-21-02-2018_TrafficForML_CICFlowMeter'\n",
    "\n",
    "with open('pickle/'+nome_file+'/scaled_document.pickle', 'rb') as handle:\n",
    "\n",
    "    df = pickle.load(handle)"
   ]
  },
  {
   "cell_type": "code",
   "execution_count": 281,
   "metadata": {},
   "outputs": [],
   "source": [
    "feature_1 = 'Init Bwd Win Byts'\n",
    "feature_2 = 'Subflow Fwd Pkts'\n",
    "\n",
    "df = df[[feature_1, feature_2,'Label']]"
   ]
  },
  {
   "cell_type": "code",
   "execution_count": 282,
   "metadata": {},
   "outputs": [
    {
     "name": "stdout",
     "output_type": "stream",
     "text": [
      "        Label\n",
      "Label        \n",
      "0      360833\n",
      "1        1730\n",
      "2      686012\n"
     ]
    }
   ],
   "source": [
    "df_prova = df.groupby(['Label'])['Label'].count()\n",
    "\n",
    "\n",
    "df_prova=df_prova.to_frame()\n",
    "print(df_prova)\n",
    "df_prova.set_index('Label')\n",
    "df_prova=df_prova.rename(columns={'n elementi':'Count'})"
   ]
  },
  {
   "cell_type": "code",
   "execution_count": 283,
   "metadata": {},
   "outputs": [
    {
     "name": "stdout",
     "output_type": "stream",
     "text": [
      "Benign:  360833 DDos attack - HOIC:  686012 DDos attack - LOIC-UDP:  1730\n"
     ]
    }
   ],
   "source": [
    "dos_hoic = df[df.Label == 2]\n",
    "dos_loic = df[df.Label == 1]\n",
    "benign = df[df.Label == 0]\n",
    "\n",
    "print(\"Benign: \", len(benign), \"DDos attack - HOIC: \", len(dos_hoic), \"DDos attack - LOIC-UDP: \", len(dos_loic))"
   ]
  },
  {
   "cell_type": "code",
   "execution_count": 284,
   "metadata": {},
   "outputs": [
    {
     "data": {
      "text/plain": [
       "(5190, 3)"
      ]
     },
     "execution_count": 284,
     "metadata": {},
     "output_type": "execute_result"
    }
   ],
   "source": [
    "#bilanciamento del dataset\n",
    "balanced_d = pd.concat([dos_loic, benign.sample(len(dos_loic)), dos_hoic.sample(len(dos_loic))])\n",
    "bal_x = balanced_d.iloc[:,:-1]\n",
    "bal_y = balanced_d.iloc[:,-1:]\n",
    "balanced_d.shape"
   ]
  },
  {
   "cell_type": "code",
   "execution_count": 285,
   "metadata": {},
   "outputs": [
    {
     "data": {
      "image/png": "[encoded data removed]",
      "text/plain": [
       "<Figure size 640x480 with 1 Axes>"
      ]
     },
     "metadata": {},
     "output_type": "display_data"
    }
   ],
   "source": [
    "\n",
    "scatter_plot= plt.scatter(balanced_d[feature_1],balanced_d[feature_2],c=balanced_d['Label'])\n",
    "scatter_plot\n",
    "\n",
    "plt.xlabel(feature_1)\n",
    "plt.ylabel(feature_2)\n",
    "\n",
    "# Aggiungi la legenda\n",
    "plt.legend(handles=scatter_plot.legend_elements()[0], labels=['Benign', 'DDos attack - LOIC-UDP', 'DDos attack - HOIC'])\n",
    "\n",
    "title = (\"Scatter \" + str(feature_1) + \" - \" + str(feature_2))\n",
    "feature_name = title.replace('/','_')\n",
    "if not os.path.exists('image/'+nome_file):\n",
    "    os.makedirs('image/'+nome_file)\n",
    "plt.savefig('image/'+nome_file +'/'+str(feature_name)+'.png')"
   ]
  },
  {
   "cell_type": "code",
   "execution_count": 286,
   "metadata": {},
   "outputs": [],
   "source": [
    "n_clusters = len(balanced_d['Label'].unique())  # numero di cluster"
   ]
  },
  {
   "cell_type": "code",
   "execution_count": null,
   "metadata": {},
   "outputs": [],
   "source": [
    "# Eseguiamo il clustering con Kmeans\n",
    "\n",
    "km = KMeans(n_clusters=n_clusters)\n",
    "y_pred = km.fit_predict(bal_x)\n",
    "\n",
    "# Associazione del cluster i-esimo con la classe i-esima\n",
    "cluster_class_mapping = {}\n",
    "for i in range(n_clusters):\n",
    "    cluster_samples = bal_x[y_pred == i]\n",
    "    cluster_classes = bal_y[y_pred == i]\n",
    "    unique_classes, class_counts = np.unique(cluster_classes, return_counts=True)\n",
    "    dominant_class = unique_classes[np.argmax(class_counts)]\n",
    "    cluster_class_mapping[i] = dominant_class"
   ]
  },
  {
   "cell_type": "code",
   "execution_count": null,
   "metadata": {},
   "outputs": [],
   "source": [
    "#plt.scatter(km.cluster_centers_[:,0], km.cluster_centers_[:, 1], s = 50, c = 'blue' , label = 'centroid')\n",
    "\n",
    "difference = pd.DataFrame(data=[],columns=['num_cluster','num_class'])\n",
    "# Stampiamo l'associazione del cluster con la classe\n",
    "for i in range(n_clusters):\n",
    "    if(i != cluster_class_mapping[i]):\n",
    "\n",
    "        new_row = pd.Series({'num_cluster': i, 'num_class': cluster_class_mapping[i]})\n",
    "        difference = pd.concat([difference,new_row.to_frame().T],ignore_index=True)\n"
   ]
  },
  {
   "cell_type": "code",
   "execution_count": null,
   "metadata": {},
   "outputs": [],
   "source": [
    "indici = []\n",
    "\n",
    "for a in difference['num_cluster']:\n",
    "    indici.append([\n",
    "    index for index in range(len(y_pred))\n",
    "    if y_pred[index] == a\n",
    "])\n",
    "\n",
    "for ind,true_value in zip(indici,difference['num_class']):\n",
    "    for a in ind:\n",
    "        y_pred[a] = true_value\n"
   ]
  },
  {
   "cell_type": "code",
   "execution_count": null,
   "metadata": {},
   "outputs": [],
   "source": [
    "# Plot dei risultati\n",
    "\n",
    "fig, axs = plt.subplots(nrows=1, ncols=1, figsize=(6, 6))\n",
    "scatter_plot = axs.scatter(bal_x[feature_1], bal_x[feature_2], c=y_pred)\n",
    "scatter_plot\n",
    "axs.set_title(\"K-means \" + str(feature_1) + \" \" + str(feature_2))\n",
    "plt.xlabel(feature_1)\n",
    "plt.ylabel(feature_2)\n",
    "\n",
    "# Aggiungi la legenda\n",
    "plt.legend(handles=scatter_plot.legend_elements()[0], labels=['Benign', 'DDos attack - LOIC-UDP', 'DDos attack - HOIC'])\n",
    "title = (\"K-means \" + str(feature_1) + \" - \" + str(feature_2))\n",
    "feature_name = title.replace('/','_')\n",
    "if not os.path.exists('image/'+nome_file+'/clustering/'):\n",
    "    os.makedirs('image/'+nome_file+'/clustering/')\n",
    "plt.savefig('image/'+nome_file+'/clustering/'+str(feature_name)+'.png')\n",
    "\n",
    "plt.show()"
   ]
  },
  {
   "cell_type": "code",
   "execution_count": null,
   "metadata": {},
   "outputs": [],
   "source": [
    "accuracy_kmeans = str(accuracy_score(y_pred,bal_y))\n",
    "precision_kmeans = str(precision_score(y_pred,bal_y,average='macro'))\n",
    "recall_kmeans = str(recall_score(y_pred,bal_y,average='macro'))\n",
    "\n",
    "# accuratezza kmeans\n",
    "print(\"accuratezza \" + accuracy_kmeans)\n",
    "# precision kmeans\n",
    "print(\"precision \" + precision_kmeans)\n",
    "# recall kemans\n",
    "print(\"recall \" + recall_kmeans)\n",
    "\n",
    "\n",
    "metriche = pd.DataFrame({\n",
    "    'metriche': [\"accuracy\",\"precision\",\"recall\"],\n",
    "    'valori': [accuracy_kmeans,precision_kmeans,recall_kmeans]\n",
    "})\n",
    "\n",
    "if not os.path.exists('metriche/'+ nome_file + '/clustering/'):\n",
    "    os.makedirs('metriche/'+ nome_file + '/clustering/')\n",
    "\n",
    "metriche.to_csv('metriche/'+nome_file+ '/clustering' +'/metriche_kmeans.csv',index=False)"
   ]
  },
  {
   "cell_type": "code",
   "execution_count": null,
   "metadata": {},
   "outputs": [],
   "source": [
    "#clustering gerarchico\n",
    "\n",
    "hc = AgglomerativeClustering(n_clusters = n_clusters, affinity = 'euclidean', linkage = 'ward')\n",
    "y_hc = hc.fit_predict(bal_x)\n",
    "\n",
    "# Associazione del cluster i-esimo con la classe i-esima\n",
    "cluster_class_mapping = {}\n",
    "for i in range(n_clusters):\n",
    "    cluster_samples = bal_x[y_hc == i]\n",
    "    cluster_classes = bal_y[y_hc == i]\n",
    "    unique_classes, class_counts = np.unique(cluster_classes, return_counts=True)\n",
    "    dominant_class = unique_classes[np.argmax(class_counts)]\n",
    "    cluster_class_mapping[i] = dominant_class\n",
    "        "
   ]
  },
  {
   "cell_type": "code",
   "execution_count": null,
   "metadata": {},
   "outputs": [],
   "source": [
    "\n",
    "difference = pd.DataFrame(data=[],columns=['num_cluster','num_class'])\n",
    "# Stampiamo l'associazione del cluster con la classe\n",
    "for i in range(n_clusters):\n",
    "    if(i != cluster_class_mapping[i]):\n",
    "\n",
    "        new_row = pd.Series({'num_cluster': i, 'num_class': cluster_class_mapping[i]})\n",
    "        difference = pd.concat([difference,new_row.to_frame().T],ignore_index=True)"
   ]
  },
  {
   "cell_type": "code",
   "execution_count": null,
   "metadata": {},
   "outputs": [],
   "source": [
    "# se il numero del cluster e la classe non coincidono, andiamo ad effettuare uno switch\n",
    "\n",
    "indici = []\n",
    "\n",
    "for a in difference['num_cluster']:\n",
    "    indici.append([\n",
    "    index for index in range(len(y_hc))\n",
    "    if y_hc[index] == a\n",
    "])\n",
    "\n",
    "for ind,true_value in zip(indici,difference['num_class']):\n",
    "    for a in ind:\n",
    "        y_hc[a] = true_value"
   ]
  },
  {
   "cell_type": "code",
   "execution_count": null,
   "metadata": {},
   "outputs": [],
   "source": [
    "fig, axs = plt.subplots(nrows=1, ncols=1, figsize=(6, 6))\n",
    "scatter_plot = axs.scatter(bal_x.iloc[:, 0], bal_x.iloc[:, 1], c=y_hc)\n",
    "scatter_plot\n",
    "\n",
    "plt.title('Hierarchial Clustering', fontsize = 20)\n",
    "plt.xlabel(feature_1)\n",
    "plt.ylabel(feature_2)\n",
    "\n",
    "# Aggiungi la legenda\n",
    "plt.legend(handles=scatter_plot.legend_elements()[0], labels=['Benign','DDos attack - LOIC-UDP', 'DDos attack - HOIC'])\n",
    "\n",
    "title = (\"Clust_gerarchico \" + str(feature_1) + \" - \" + str(feature_2))\n",
    "feature_name = title.replace('/','_')\n",
    "if not os.path.exists('image/'+nome_file+'/clustering/'):\n",
    "    os.makedirs('image/'+nome_file+'/clustering/')\n",
    "plt.savefig('image/'+nome_file+'/clustering/'+str(feature_name)+'.png')\n",
    "\n",
    "plt.show()"
   ]
  },
  {
   "cell_type": "code",
   "execution_count": null,
   "metadata": {},
   "outputs": [],
   "source": [
    "accuracy_gerarchico = str(accuracy_score(y_hc,bal_y))\n",
    "precision_gerarchico = str(precision_score(y_hc,bal_y,average='macro'))\n",
    "recall_gerarchico = str(recall_score(y_hc,bal_y,average='macro'))\n",
    "\n",
    "# accuratezza gerarchico\n",
    "print(\"accuratezza \" + accuracy_gerarchico)\n",
    "# precision gerarchico\n",
    "print(\"precision \" + precision_gerarchico)\n",
    "# recall gerarchico\n",
    "print(\"recall \" + recall_gerarchico)\n",
    "\n",
    "metriche = pd.DataFrame({\n",
    "    'metriche': [\"accuracy\",\"precision\",\"recall\"],\n",
    "    'valori': [accuracy_gerarchico,precision_gerarchico,recall_gerarchico]\n",
    "})\n",
    "\n",
    "if not os.path.exists('metriche/'+ nome_file + '/clustering/'):\n",
    "    os.makedirs('metriche/'+ nome_file + '/clustering/')\n",
    "\n",
    "metriche.to_csv('metriche/'+ nome_file + '/clustering' + '/metriche_gerarchico.csv',index=False)"
   ]
  },
  {
   "cell_type": "code",
   "execution_count": null,
   "metadata": {},
   "outputs": [],
   "source": [
    "#individuazione dell'eps migliore\n",
    "from sklearn.neighbors import NearestNeighbors\n",
    "import numpy as np\n",
    "import random\n",
    "\n",
    "values = bal_x.values\n",
    "neigh = NearestNeighbors(n_neighbors=5, n_jobs=4, algorithm='ball_tree', leaf_size=5)\n",
    "nbrs = neigh.fit(values)\n",
    "distances, indices = nbrs.kneighbors(values)\n",
    "\n",
    "distances = np.sort(distances, axis=0)\n",
    "plt.figure(figsize=(12,8))\n",
    "plt.plot(distances[:,1])"
   ]
  },
  {
   "cell_type": "code",
   "execution_count": null,
   "metadata": {},
   "outputs": [],
   "source": [
    "# applicazione algoritmo dbscan\n",
    "\n",
    "from sklearn.cluster import DBSCAN\n",
    "\n",
    "db = DBSCAN(eps=0.01, min_samples=6).fit(values)\n",
    "y_scan = db.labels_\n",
    "y_scan"
   ]
  },
  {
   "cell_type": "code",
   "execution_count": null,
   "metadata": {},
   "outputs": [],
   "source": [
    "# Associazione del cluster i-esimo con la classe i-esima\n",
    "cluster_class_mapping = {}\n",
    "for i in range(n_clusters):\n",
    "    cluster_samples = bal_x[y_scan == i]\n",
    "    cluster_classes = bal_y[y_scan == i]\n",
    "    unique_classes, class_counts = np.unique(cluster_classes, return_counts=True)\n",
    "    dominant_class = unique_classes[np.argmax(class_counts)]\n",
    "    cluster_class_mapping[i] = dominant_class\n"
   ]
  },
  {
   "cell_type": "code",
   "execution_count": null,
   "metadata": {},
   "outputs": [],
   "source": [
    "\n",
    "difference = pd.DataFrame(data=[],columns=['num_cluster','num_class'])\n",
    "# Stampiamo l'associazione del cluster con la classe\n",
    "for i in range(n_clusters):\n",
    "    if(i != cluster_class_mapping[i]):\n",
    "\n",
    "        new_row = pd.Series({'num_cluster': i, 'num_class': cluster_class_mapping[i]})\n",
    "        difference = pd.concat([difference,new_row.to_frame().T],ignore_index=True)"
   ]
  },
  {
   "cell_type": "code",
   "execution_count": null,
   "metadata": {},
   "outputs": [],
   "source": [
    "# se il numero del cluster e la classe non coincidono, andiamo ad effettuare uno switch\n",
    "\n",
    "indici = []\n",
    "\n",
    "for a in difference['num_cluster']:\n",
    "    indici.append([\n",
    "    index for index in range(len(y_scan))\n",
    "    if y_scan[index] == a\n",
    "])\n",
    "\n",
    "for ind,true_value in zip(indici,difference['num_class']):\n",
    "    for a in ind:\n",
    "        y_scan[a] = true_value"
   ]
  },
  {
   "cell_type": "code",
   "execution_count": null,
   "metadata": {},
   "outputs": [],
   "source": [
    "plt.figure(figsize=(15,8))\n",
    "plt.title('Cluster DBSCAN', fontsize = 30)\n",
    "\n",
    "plt.scatter(values[y_scan == -1, 0], values[y_scan == -1, 1], s = 100, c = 'black', label = \"noise\")\n",
    "plt.scatter(values[y_scan == 0, 0], values[y_scan == 0, 1], s = 100, c = 'pink', label = \"Benign\")\n",
    "plt.scatter(values[y_scan == 2, 0], values[y_scan == 2, 1], s = 100, c = 'green', label = \"DDos attack - HOIC\") \n",
    "plt.scatter(values[y_scan == 1, 0], values[y_scan == 1, 1], s = 100, c = 'red', label = \"DDos attack - LOIC-UDP\") \n",
    "\n",
    "plt.xlabel(feature_1)\n",
    "plt.ylabel(feature_2)\n",
    "\n",
    "# Add legend\n",
    "plt.legend(fontsize='large')\n",
    "\n",
    "title = (\"DB_Scan \" + str(feature_1) + \" - \" + str(feature_2))\n",
    "feature_name = title.replace('/','_')\n",
    "if not os.path.exists('image/'+nome_file+'/clustering/'):\n",
    "    os.makedirs('image/'+nome_file+'/clustering/')\n",
    "plt.savefig('image/'+nome_file+'/clustering/'+str(feature_name)+'.png')\n",
    "\n",
    "\n",
    "plt.show()"
   ]
  },
  {
   "cell_type": "code",
   "execution_count": null,
   "metadata": {},
   "outputs": [],
   "source": [
    "accuracy_dbscan = str(accuracy_score(y_scan,bal_y))\n",
    "precision_dbscan = str(precision_score(y_scan,bal_y,average='macro'))\n",
    "recall_dbscan = str(recall_score(y_scan,bal_y,average='macro'))\n",
    "\n",
    "# accuratezza dbscan\n",
    "print(\"accuratezza \" + accuracy_dbscan)\n",
    "# precision dbscan\n",
    "print(\"precision \" + precision_dbscan)\n",
    "# recall dbscan\n",
    "print(\"recall \" + recall_dbscan)\n",
    "\n",
    "metriche = pd.DataFrame({\n",
    "    'metriche': [\"accuracy\",\"precision\",\"recall\"],\n",
    "    'valori': [accuracy_dbscan,precision_dbscan,recall_dbscan]\n",
    "})\n",
    "\n",
    "if not os.path.exists('metriche/'+ nome_file + '/clustering/'):\n",
    "    os.makedirs('metriche/'+ nome_file + '/clustering/')\n",
    "\n",
    "metriche.to_csv('metriche/'+nome_file+ '/clustering' +'/metriche_dbscan.csv',index=False)"
   ]
  },
  {
   "cell_type": "code",
   "execution_count": 422,
   "metadata": {},
   "outputs": [
    {
     "name": "stdout",
     "output_type": "stream",
     "text": [
      "[0 1 2]\n",
      "[1 0 2]\n"
     ]
    }
   ],
   "source": [
    "# Eseguiamo il clustering\n",
    "\n",
    "n_clusters = len(balanced_d['Label'].unique())  # numero di cluster\n",
    "\n",
    "y_som = SOM(m=1, n=3, dim=2,max_iter=250)\n",
    "\n",
    "y_som.fit(bal_x.values,epochs=500)\n",
    "\n",
    "predictions = y_som.predict(bal_x.values)\n",
    "\n",
    "print(np.unique(predictions))\n",
    "print(pd.unique(bal_y[\"Label\"].unique()))"
   ]
  },
  {
   "cell_type": "code",
   "execution_count": 423,
   "metadata": {},
   "outputs": [
    {
     "name": "stdout",
     "output_type": "stream",
     "text": [
      "[0 1 2]\n",
      "[1 0 2]\n"
     ]
    }
   ],
   "source": [
    "print(np.unique(predictions))\n",
    "print(pd.unique(bal_y[\"Label\"].unique()))"
   ]
  },
  {
   "cell_type": "code",
   "execution_count": 429,
   "metadata": {},
   "outputs": [],
   "source": [
    "# Associazione del cluster i-esimo con la classe i-esima\n",
    "cluster_class_mapping = {}\n",
    "for i in range(n_clusters):\n",
    "    cluster_samples = bal_x[predictions == i]\n",
    "    cluster_classes = bal_y[predictions == i]\n",
    "    unique_classes, class_counts = np.unique(cluster_classes, return_counts=True)\n",
    "    dominant_class = unique_classes[np.argmax(class_counts)]\n",
    "    cluster_class_mapping[i] = dominant_class\n",
    "    "
   ]
  },
  {
   "cell_type": "code",
   "execution_count": 430,
   "metadata": {},
   "outputs": [],
   "source": [
    "difference = pd.DataFrame(data=[],columns=['num_cluster','num_class'])\n",
    "\n",
    "# Stampiamo l'associazione del cluster con la classe\n",
    "\n",
    "for i in range(n_clusters):\n",
    "    if(i != cluster_class_mapping[i]):\n",
    "\n",
    "        new_row = pd.Series({'num_cluster': i, 'num_class': cluster_class_mapping[i]})\n",
    "        difference = pd.concat([difference,new_row.to_frame().T],ignore_index=True)\n",
    "    "
   ]
  },
  {
   "cell_type": "code",
   "execution_count": 431,
   "metadata": {},
   "outputs": [],
   "source": [
    "indici = []\n",
    "\n",
    "for a in difference['num_cluster']:\n",
    "    indici.append([\n",
    "    index for index in range(len(predictions))\n",
    "    if predictions[index] == a\n",
    "])\n",
    "\n",
    "for ind,true_value in zip(indici,difference['num_class']):\n",
    "    for a in ind:\n",
    "        predictions[a] = true_value"
   ]
  },
  {
   "cell_type": "code",
   "execution_count": 432,
   "metadata": {},
   "outputs": [
    {
     "data": {
      "image/png": "[encoded data removed]",
      "text/plain": [
       "<Figure size 600x600 with 1 Axes>"
      ]
     },
     "metadata": {},
     "output_type": "display_data"
    }
   ],
   "source": [
    "# Plot dei risultati\n",
    "\n",
    "fig, axs = plt.subplots(nrows=1, ncols=1, figsize=(6, 6))\n",
    "scatter_plot = axs.scatter(bal_x[feature_1], bal_x[feature_2], c=predictions)\n",
    "scatter_plot\n",
    "\n",
    "plt.title('SOM ', fontsize = 20)\n",
    "plt.xlabel(feature_1)\n",
    "plt.ylabel(feature_2)\n",
    "\n",
    "# Aggiungi la legenda\n",
    "plt.legend(handles=scatter_plot.legend_elements()[0], labels=['Benign', 'DDos attack - LOIC-UDP', 'DDos attack - HOIC'])\n",
    "\n",
    "title = (\"SOM \" + str(feature_1) + \" - \" + str(feature_2))\n",
    "feature_name = title.replace('/','_')\n",
    "if not os.path.exists('image/'+nome_file+'/clustering/'):\n",
    "    os.makedirs('image/'+nome_file+'/clustering/')\n",
    "plt.savefig('image/'+nome_file+'/clustering/'+str(feature_name)+'.png')\n",
    "\n",
    "plt.show()"
   ]
  },
  {
   "cell_type": "code",
   "execution_count": 433,
   "metadata": {},
   "outputs": [
    {
     "name": "stdout",
     "output_type": "stream",
     "text": [
      "accuratezza 0.994412331406551\n",
      "precision 0.994412331406551\n",
      "recall 0.994504453287853\n"
     ]
    }
   ],
   "source": [
    "accuracy_som = str(accuracy_score(predictions,bal_y))\n",
    "precision_som = str(precision_score(predictions,bal_y,average='macro'))\n",
    "recall_som = str(recall_score(predictions,bal_y,average='macro'))\n",
    "\n",
    "# accuratezza som\n",
    "print(\"accuratezza \" + accuracy_som)\n",
    "# precision som\n",
    "print(\"precision \" + precision_som)\n",
    "# recall som\n",
    "print(\"recall \" + recall_som)\n",
    "\n",
    "metriche = pd.DataFrame({\n",
    "    'metriche': [\"accuracy\",\"precision\",\"recall\"],\n",
    "    'valori': [accuracy_som,precision_som,recall_som]\n",
    "})\n",
    "\n",
    "if not os.path.exists('metriche/'+nome_file+ '/clustering/'):\n",
    "    os.makedirs('metriche/'+nome_file+ '/clustering/')\n",
    "\n",
    "metriche.to_csv('metriche/'+nome_file+ '/clustering' + '/metriche_som.csv',index=False)"
   ]
  }
 ],
 "metadata": {
  "kernelspec": {
   "display_name": "cyber",
   "language": "python",
   "name": "python3"
  },
  "language_info": {
   "codemirror_mode": {
    "name": "ipython",
    "version": 3
   },
   "file_extension": ".py",
   "mimetype": "text/x-python",
   "name": "python",
   "nbconvert_exporter": "python",
   "pygments_lexer": "ipython3",
   "version": "3.9.16"
  },
  "orig_nbformat": 4
 },
 "nbformat": 4,
 "nbformat_minor": 2
}
