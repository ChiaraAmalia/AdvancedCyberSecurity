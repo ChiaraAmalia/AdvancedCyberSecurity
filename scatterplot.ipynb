{
 "cells": [
  {
   "cell_type": "code",
   "execution_count": 10,
   "metadata": {},
   "outputs": [],
   "source": [
    "# Importiamo le librerie\n",
    "\n",
    "from itertools import combinations\n",
    "import matplotlib.pyplot as plt\n",
    "import pandas as pd\n",
    "import pickle\n",
    "from itertools import combinations\n",
    "from os import listdir\n",
    "from os.path import isfile, join"
   ]
  },
  {
   "cell_type": "code",
   "execution_count": 11,
   "metadata": {},
   "outputs": [],
   "source": [
    "# Variabili globali\n",
    "\n",
    "mypath = 'dataset'\n",
    "\n",
    "# Mi vado a prendere i path di tutti i file nella cartella dataset\n",
    "\n",
    "onlyfiles = [f for f in listdir(mypath) if isfile(join(mypath, f))]\n",
    "\n",
    "# Mi vado a generare tutte le possibili combinazioni di due elementi da un insieme di 5 elementi\n",
    "\n",
    "comb = list(combinations(range(0,5), 2))"
   ]
  },
  {
   "cell_type": "code",
   "execution_count": 12,
   "metadata": {},
   "outputs": [],
   "source": [
    "#importiamo i pickle\n",
    "\n",
    "document = 'Wednesday-28-02-2018_TrafficForML_CICFlowMeter'\n",
    "\n",
    "with open('pickle/'+ document +'/scaled_document.pickle', 'rb') as handle:\n",
    "    df = pickle.load(handle)\n",
    "\n",
    "with open('pickle/'+ document +'/scaled_document_plot.pickle', 'rb') as handle:\n",
    "    df_plot = pickle.load(handle)"
   ]
  },
  {
   "cell_type": "code",
   "execution_count": 13,
   "metadata": {},
   "outputs": [
    {
     "name": "stdout",
     "output_type": "stream",
     "text": [
      "['Flow Pkts/s', 'Flow IAT Mean', 'Flow IAT Max', 'Flow IAT Std', 'Bwd IAT Tot']\n"
     ]
    }
   ],
   "source": [
    "#creiamo un array in cui andiamo a mettere le 5 feature più importanti per filtrare poi il dataframe\n",
    "\n",
    "import csv\n",
    "\n",
    "results = []\n",
    "with open('top_feature/'+ document +'/top5.csv', newline='') as inputfile:\n",
    "    for row in csv.reader(inputfile):\n",
    "        results.append(row[0])\n",
    "\n",
    "results.pop(0)\n",
    "print(results)"
   ]
  },
  {
   "cell_type": "code",
   "execution_count": 14,
   "metadata": {},
   "outputs": [],
   "source": [
    "#dividiamo il dataframe\n",
    "\n",
    "x = df.iloc[:,:-1]\n",
    "y = df.iloc[:,-1:]\n",
    "y_plot = df_plot.iloc[:,-1:]"
   ]
  },
  {
   "cell_type": "code",
   "execution_count": 15,
   "metadata": {},
   "outputs": [
    {
     "data": {
      "text/html": [
       "<div>\n",
       "<style scoped>\n",
       "    .dataframe tbody tr th:only-of-type {\n",
       "        vertical-align: middle;\n",
       "    }\n",
       "\n",
       "    .dataframe tbody tr th {\n",
       "        vertical-align: top;\n",
       "    }\n",
       "\n",
       "    .dataframe thead th {\n",
       "        text-align: right;\n",
       "    }\n",
       "</style>\n",
       "<table border=\"1\" class=\"dataframe\">\n",
       "  <thead>\n",
       "    <tr style=\"text-align: right;\">\n",
       "      <th></th>\n",
       "      <th>Flow Pkts/s</th>\n",
       "      <th>Flow IAT Mean</th>\n",
       "      <th>Flow IAT Std</th>\n",
       "      <th>Flow IAT Max</th>\n",
       "      <th>Bwd IAT Tot</th>\n",
       "    </tr>\n",
       "  </thead>\n",
       "  <tbody>\n",
       "    <tr>\n",
       "      <th>0</th>\n",
       "      <td>0.000046</td>\n",
       "      <td>6.603107e-05</td>\n",
       "      <td>0.000153</td>\n",
       "      <td>2.036241e-04</td>\n",
       "      <td>0.000601</td>\n",
       "    </tr>\n",
       "    <tr>\n",
       "      <th>1</th>\n",
       "      <td>0.003236</td>\n",
       "      <td>1.721145e-06</td>\n",
       "      <td>0.000000</td>\n",
       "      <td>1.716122e-06</td>\n",
       "      <td>0.000000</td>\n",
       "    </tr>\n",
       "    <tr>\n",
       "      <th>2</th>\n",
       "      <td>0.000008</td>\n",
       "      <td>4.618288e-04</td>\n",
       "      <td>0.001313</td>\n",
       "      <td>1.384751e-03</td>\n",
       "      <td>0.000000</td>\n",
       "    </tr>\n",
       "    <tr>\n",
       "      <th>3</th>\n",
       "      <td>0.000042</td>\n",
       "      <td>7.145220e-05</td>\n",
       "      <td>0.000151</td>\n",
       "      <td>2.048631e-04</td>\n",
       "      <td>0.000664</td>\n",
       "    </tr>\n",
       "    <tr>\n",
       "      <th>4</th>\n",
       "      <td>0.003992</td>\n",
       "      <td>1.394663e-06</td>\n",
       "      <td>0.000000</td>\n",
       "      <td>1.389640e-06</td>\n",
       "      <td>0.000000</td>\n",
       "    </tr>\n",
       "    <tr>\n",
       "      <th>...</th>\n",
       "      <td>...</td>\n",
       "      <td>...</td>\n",
       "      <td>...</td>\n",
       "      <td>...</td>\n",
       "      <td>...</td>\n",
       "    </tr>\n",
       "    <tr>\n",
       "      <th>613099</th>\n",
       "      <td>0.222222</td>\n",
       "      <td>2.176545e-08</td>\n",
       "      <td>0.000000</td>\n",
       "      <td>1.674265e-08</td>\n",
       "      <td>0.000000</td>\n",
       "    </tr>\n",
       "    <tr>\n",
       "      <th>613100</th>\n",
       "      <td>0.333333</td>\n",
       "      <td>1.339412e-08</td>\n",
       "      <td>0.000000</td>\n",
       "      <td>8.371326e-09</td>\n",
       "      <td>0.000000</td>\n",
       "    </tr>\n",
       "    <tr>\n",
       "      <th>613101</th>\n",
       "      <td>0.000002</td>\n",
       "      <td>2.044632e-03</td>\n",
       "      <td>0.005815</td>\n",
       "      <td>6.133470e-03</td>\n",
       "      <td>0.006106</td>\n",
       "    </tr>\n",
       "    <tr>\n",
       "      <th>613102</th>\n",
       "      <td>0.030303</td>\n",
       "      <td>1.808206e-07</td>\n",
       "      <td>0.000000</td>\n",
       "      <td>1.757978e-07</td>\n",
       "      <td>0.000000</td>\n",
       "    </tr>\n",
       "    <tr>\n",
       "      <th>613103</th>\n",
       "      <td>0.333333</td>\n",
       "      <td>1.339412e-08</td>\n",
       "      <td>0.000000</td>\n",
       "      <td>8.371326e-09</td>\n",
       "      <td>0.000000</td>\n",
       "    </tr>\n",
       "  </tbody>\n",
       "</table>\n",
       "<p>606902 rows × 5 columns</p>\n",
       "</div>"
      ],
      "text/plain": [
       "        Flow Pkts/s  Flow IAT Mean  Flow IAT Std  Flow IAT Max  Bwd IAT Tot\n",
       "0          0.000046   6.603107e-05      0.000153  2.036241e-04     0.000601\n",
       "1          0.003236   1.721145e-06      0.000000  1.716122e-06     0.000000\n",
       "2          0.000008   4.618288e-04      0.001313  1.384751e-03     0.000000\n",
       "3          0.000042   7.145220e-05      0.000151  2.048631e-04     0.000664\n",
       "4          0.003992   1.394663e-06      0.000000  1.389640e-06     0.000000\n",
       "...             ...            ...           ...           ...          ...\n",
       "613099     0.222222   2.176545e-08      0.000000  1.674265e-08     0.000000\n",
       "613100     0.333333   1.339412e-08      0.000000  8.371326e-09     0.000000\n",
       "613101     0.000002   2.044632e-03      0.005815  6.133470e-03     0.006106\n",
       "613102     0.030303   1.808206e-07      0.000000  1.757978e-07     0.000000\n",
       "613103     0.333333   1.339412e-08      0.000000  8.371326e-09     0.000000\n",
       "\n",
       "[606902 rows x 5 columns]"
      ]
     },
     "metadata": {},
     "output_type": "display_data"
    }
   ],
   "source": [
    "#otteniamo il dataframe con solo le 5 feature più importanti\n",
    "\n",
    "df_filtrato = pd.DataFrame()\n",
    "for a in x.head(0):\n",
    "    if a in results:\n",
    "        df_filtrato[a] = df[a]\n",
    "\n",
    "display(df_filtrato)"
   ]
  },
  {
   "cell_type": "code",
   "execution_count": 16,
   "metadata": {},
   "outputs": [
    {
     "name": "stdout",
     "output_type": "stream",
     "text": [
      "['Benign' 'Infilteration']\n"
     ]
    }
   ],
   "source": [
    "#vediamo le categorie di attacchi in label\n",
    "\n",
    "attacchi = y_plot['Label'].unique()\n",
    "print(attacchi)"
   ]
  },
  {
   "cell_type": "code",
   "execution_count": 17,
   "metadata": {},
   "outputs": [],
   "source": [
    "#definiamo i colori\n",
    "\n",
    "from itertools import combinations\n",
    "comb = list(combinations(df_filtrato.head(0), 2))\n",
    "#colors = { 'Brute Force -Web':'black', 'Brute Force -XSS':'purple', 'SQL Injection':'brown', 'Benign':'red'}\n",
    "#colors = { 'DDOS attack-LOIC-UDP':'black', 'DDOS attack-HOIC':'purple', 'Benign':'red'}\n",
    "colors = { 'Infilteration':'black', 'Benign':'red'}"
   ]
  },
  {
   "cell_type": "code",
   "execution_count": 18,
   "metadata": {},
   "outputs": [],
   "source": [
    "#creiamo gli scatterplot\n",
    "\n",
    "import matplotlib.pyplot as plt\n",
    "from matplotlib.lines import Line2D\n",
    "\n",
    "for a in comb:\n",
    "    fig, ax = plt.subplots()\n",
    "    ax.scatter(df_plot[a[0]],df_plot[a[1]],c=df_plot['Label'].map(colors),alpha=.1)\n",
    "    handles = [Line2D([0], [0], marker='o', color='w', markerfacecolor=v, label=k, markersize=8) for k, v in colors.items()]\n",
    "    plt.legend(title='color', handles=handles, bbox_to_anchor=(1.05, 1), loc='upper left')\n",
    "    plt.title(str(a[0])+' - '+str(a[1]))\n",
    "\n",
    "    title = str(a[0])+' - '+str(a[1])\n",
    "    feature_name = title.replace('/','_')\n",
    "    plt.savefig('image/'+document+'/'+'scatter/'+str(feature_name)+'.png', bbox_inches='tight')\n",
    "    plt.close()"
   ]
  }
 ],
 "metadata": {
  "kernelspec": {
   "display_name": "cyber",
   "language": "python",
   "name": "python3"
  },
  "language_info": {
   "name": "python",
   "version": "3.10.11"
  },
  "orig_nbformat": 4
 },
 "nbformat": 4,
 "nbformat_minor": 2
}
